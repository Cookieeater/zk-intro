{
 "cells": [
  {
   "cell_type": "code",
   "execution_count": 5,
   "id": "0e456270-7a48-4fb1-9d1b-fef6c2e32b05",
   "metadata": {},
   "outputs": [],
   "source": [
    "## clean\n",
    "!find multiplier/ ! -name 'multiplier.circom' -type f -exec rm -f {} +\n",
    "!find quadratic/ ! -name 'quadratic.circom' -type f -exec rm -f {} +\n",
    "!rm -rf witness.json"
   ]
  },
  {
   "cell_type": "markdown",
   "id": "6e959c66-f101-4018-807f-50582023e5cf",
   "metadata": {},
   "source": [
    "Introduction to ZK (Practice)\n",
    "\n",
    "##### ZK позволяет пруверу (prover) доказать какое-то утверждение верификатору (verifier) без раскрытия части переменных. Например, доказать знание такого *m*, что *hash(m) = h*, где *h* также известно верификатору.\n",
    "##### Доказательства строятся путём проведения какого-то вычисления.\n",
    "##### Затем данное доказательство может быть провалидировано с помощью верификатора.\n",
    "##### **Q**: Какие утверждения можно доказывать?\n",
    "##### **A**: В целом можно доказывать всё что угодно, и, наверное, можно создать специализированные алгоритмы для конкретных доменов. Но самым распространённым вариантом выражения вычислений являются криптографические схемы (*Arithmetic circuits*)."
   ]
  },
  {
   "cell_type": "markdown",
   "id": "bcd3bd90-114d-4ceb-a66a-dc863e9b3ddf",
   "metadata": {},
   "source": [
    "![Arithmetic circuit](images/1.png)\n",
    "\n",
    "Выше пример простой криптографической схемы. Схемы состоят из переменных и констант. Они соединяются между собой операциями сложения и умножения (в рамках поля $F$). Переменные в таких вычислениях могут быть публичными и приватными - публичные известны всем, приватные известны только пруверу и применяются при создании доказательства.\n",
    "\n",
    "На картинке выше схема состоит из двух переменных $x_1$, $x_2$ и константы $1$. Они соединяются через сложения и умножения, и в конечном итоге получается выражение $(x_1 + x_2) \\cdot (x_2 + 1) \\cdot x_2$.\n",
    "\n",
    "Это простое выражение не несет какого-то специального смысла, однако для примера можно рассмотреть его так: пусть есть верификатор, который проверяет, что пользователь знает такие $x_1$ и $x_2$, что выражение выше обращается в какое-то число $C$ (и если проверка прошла успешно, то делает что-то хорошее для прувера).\n",
    "\n",
    "Пусть $С = 10$. Тогда одно из решений это $x_1 = 4, x_2 = 1$. Также пусть $x_1, x_2$ - приватные переменные. Для построения доказательства необходимо явно провести вычисления в этом графе, используя $x_1$ и $x_2$, и сверить после вычисления результат с константой $C$. $C$ в данном случае - публичный вход.\n",
    "\n",
    "Верификатор получит пруф для проверки (какой-то набор чисел, сгенерированный прувером через умные zk алгоритмы), а также публичные переменные (они известны и пруверу и верификатору), и затем подаст на вход функции верификации 2 вещи: полученный пруф и публичные переменные (в данном случае $C$)."
   ]
  },
  {
   "cell_type": "markdown",
   "id": "cd45d68d-baf4-425d-91b9-e043fe2ae5b1",
   "metadata": {},
   "source": [
    "##### Выше представлена тривиальная схема. Но через такие же гейты можно выразить более сложные вещи (например, хеш-функции).\n",
    "\n",
    "##### Представьте, что верификатор теперь проверяет не знание чисел $x_1$ и $x_2$, а знание такого сообщения $m$, что $h = sha256(m)$, где $h$ - публичная переменная. Схематично всё выглядит точно так же, как в примере выше - но применений у этого уже гораздо больше."
   ]
  },
  {
   "cell_type": "markdown",
   "id": "5b0fa6c4-9253-4262-9527-0291800a5fb9",
   "metadata": {},
   "source": [
    "# Circom\n",
    "\n",
    "##### Конечно, в реальности никто не строит такие схемы руками. Есть различные языки программирования, библиотеки и фреймворки с разными степенями абстракции для генерации доказательств и верификаторов. Сегодня познакомимся с Circom - довольно низкоуровневым фреймворком для построения криптографических схем.\n",
    "#### [Документация](https://docs.circom.io/getting-started/installation/)\n",
    "##### Для начала поставим нужные зависимости."
   ]
  },
  {
   "cell_type": "code",
   "execution_count": null,
   "id": "d3d99d8c-65bb-4f6e-bc49-93194ad486cd",
   "metadata": {
    "scrolled": true
   },
   "outputs": [],
   "source": [
    "!curl --proto '=https' --tlsv1.2 https://sh.rustup.rs -sSf | sh # возможно придется запустить в терминале, чтобы повыбирать пункты во время установки"
   ]
  },
  {
   "cell_type": "code",
   "execution_count": 1,
   "id": "5d3c0fcb-228f-4316-83f6-16c7c7552d06",
   "metadata": {},
   "outputs": [],
   "source": [
    "# !git clone https://github.com/iden3/circom.git\n",
    "# !cargo build --release\n",
    "# !cargo install --path circom"
   ]
  },
  {
   "cell_type": "markdown",
   "id": "457d7636-7150-419a-9638-ba60dea36ee5",
   "metadata": {},
   "source": [
    "##### Также надо поставить snarkjs, для валидации circom скриптов"
   ]
  },
  {
   "cell_type": "code",
   "execution_count": null,
   "id": "e6b78f03-5452-48c9-809c-129a1d049010",
   "metadata": {},
   "outputs": [],
   "source": [
    "!npm install -g snarkjs"
   ]
  },
  {
   "cell_type": "markdown",
   "id": "7d5fe231-c6a2-4c10-ac7a-a290fe2800da",
   "metadata": {},
   "source": [
    "##### Проверям, что все работает"
   ]
  },
  {
   "cell_type": "code",
   "execution_count": null,
   "id": "99ef318f-f246-4974-a63e-d9ec2528d783",
   "metadata": {
    "scrolled": true
   },
   "outputs": [],
   "source": [
    "!circom --help"
   ]
  },
  {
   "cell_type": "markdown",
   "id": "74edd49d-e41f-44d0-9231-a2dd9159f864",
   "metadata": {},
   "source": [
    "##### Я буду дублировать код из файлов в ячейки для наглядности, но запускать будем файлы из multiplier/"
   ]
  },
  {
   "cell_type": "markdown",
   "id": "112e335f-9a72-4c3f-8411-12d854351894",
   "metadata": {},
   "source": [
    "##### Ниже представлен код из файла multiplier/multiplier.cicrom"
   ]
  },
  {
   "cell_type": "raw",
   "id": "eaa18efb-801f-429a-ab9a-6f98a66f24bd",
   "metadata": {},
   "source": [
    "pragma circom 2.1.8;\n",
    "\n",
    "/*This circuit template checks that c is the multiplication of a and b.*/  \n",
    "\n",
    "template Multiplier2 () {  \n",
    "\n",
    "   // Declaration of signals.  \n",
    "   signal input a;  \n",
    "   signal input b;  \n",
    "   signal output c;  \n",
    "\n",
    "   // Constraints.  \n",
    "   c <== a * b;  \n",
    "}"
   ]
  },
  {
   "cell_type": "markdown",
   "id": "049c01da-9356-4ec2-8672-490913efb264",
   "metadata": {},
   "source": [
    "##### Пройдемся по коду сверху вниз:\n",
    "##### 1) На первой строке мы видим прагму версии компилятора - то же самое, что обычно встречается в Solidity контрактах.\n",
    "##### 2) Далее идет комментарий, он выделяется символами /* ... */ или // и игнорируется при компиляции.\n",
    "##### 3) Затем мы встречаем слово **template**. Темплейты позволяют выделять общие части кода в отдельную сущность. Представьте, что мы строим большую схему, и нам надо сделать много раз одно и то же умножение. Самым удобным вариантом будет вынести это в темплейт и переиспользовать по необходимости (как выглядит само переиспользование, покажу позже).\n",
    "##### 4) В теле темплейта первое, что мы видим - это ключевое слово **signal**. Сигналы являются аналогами нод графа вычислений выше. После слова **signal** могут идти слова **input** или **output**. Сигналы с таким ключевым словом видны снаружи. Связывая **input** сигналы с другими сигналами, мы сможем получить **output** сигнал. Сигналы внутри темплейта без **input/output** ключевого слова не видны снаружи и могут использоваться только внутри темплейта. Последней компонентой является название сигнала, тут это *a, b, c*.\n",
    "##### 5) На следующей строке мы видим констрейнт (**Constraints**). Это связи для наших сигналов. Подробнее можно найти [тут](https://docs.circom.io/circom-language/constraint-generation/). Если коротко, то такая конструкция позволяет связывать сигналы и накладывать ограничения на такие связи. Констрейнты должны быть представлены в виде A*B + C = 0. Несколько синтаксических конструкций, связанных с этим:\n",
    "##### 5.1) **a * b === С** - здесь **С** - какая-то константа или другой сигнал. Такой констрейнт не соединяет сигналы, а проверяет, что равенство верно. Если при генерации доказательства такой констрейнт не удовлетворяется, то доказательство построить не получится.\n",
    "###### 5.2) **C === a * b** - то же самое, что в 5.1, части равенства можно менять местами\n",
    "###### 5.3) **x <-- a * b** - стрелочка служит для создания связей между сигналами, при этом данный синтаксис не генерирует и не является констрейнтом (!), а лишь присваивает сигналу x новое значение a * b. \n",
    "###### 5.4) **a * b --> x** - то же самое, что 5.3\n",
    "###### 5.5) **x <== a * b** - это короткая запись двух выражений: **x <-- a * b** и **x === a * b**. Ровно такая запись встречается выше в примере. Чаще всего используется именно **<==**, а не **<--**. Позже покажу, чем **<--** может быть опасен и чем полезен. Можно писать стрелку и в другую сторону (**==>**)."
   ]
  },
  {
   "cell_type": "markdown",
   "id": "4d1f30b4-222c-4351-9051-e789e63756bc",
   "metadata": {},
   "source": [
    "##### По итогу, у нас есть темплейт Multiplier2, который принимает на вход два входа *a* и *b*, уможает их и результат умножения помещает в сигнал *c*.\n",
    "##### Для генерации доказательств, нам нужно добавить точку входа для нашей схемы и скомпилировать ее. Добавим одну строку к скрипту выше:"
   ]
  },
  {
   "cell_type": "raw",
   "id": "85f24c91-58ce-4e01-ba63-284997efdd35",
   "metadata": {},
   "source": [
    "pragma circom 2.1.8;\n",
    "\n",
    "/*This circuit template checks that c is the multiplication of a and b.*/  \n",
    "\n",
    "template Multiplier2 () {  \n",
    "\n",
    "   // Declaration of signals.  \n",
    "   signal input a;  \n",
    "   signal input b;  \n",
    "   signal output c;  \n",
    "\n",
    "   // Constraints.  \n",
    "   c <== a * b;  \n",
    "}\n",
    "\n",
    "component main = Multiplier2();"
   ]
  },
  {
   "cell_type": "markdown",
   "id": "21a1f504-43d4-46c2-8945-a5dcee734763",
   "metadata": {},
   "source": [
    "##### Ключевое слово component позволяет инстанцировать темплейт - тут по сути мы просто говорим, что у нас будет компонент main и он будет равен Multiplier2. У main есть 2 входа *a* и *b* и на выходе мы получим выход *c*.\n",
    "##### Пора компилировать! Но во что же преобразуется наш multiplier.circom? Компилятор circom генерирует *r1cs constraint system*. Это система констрейнтов (по сути система выражений вида *D = A * B + C*), которая задает ограничения для нашего утверждения. Используя код выше и опираясь на констрейнты (===, <==, ==>), он генерирует специальный файл, который позволяет создать верификатор и генерировать доказательства.\n",
    "##### Итак, скомпилируем нашу схему такой командой:"
   ]
  },
  {
   "cell_type": "code",
   "execution_count": null,
   "id": "1f8eda4e-fee5-460a-8d17-127d6e3165be",
   "metadata": {},
   "outputs": [],
   "source": [
    "!circom multiplier/multiplier.circom --r1cs --wasm --sym --output multiplier"
   ]
  },
  {
   "cell_type": "markdown",
   "id": "eecfc6c7-8862-4413-b890-9b429e1f6b80",
   "metadata": {},
   "source": [
    "Ура!\n",
    "##### На выходе мы получили несколько файлов, так как использовали несколько ключей при компиляции:\n",
    "##### 1) multiplier.r1cs - основная часть, констрейнты в бинарном формате. Не важно, что там внутри, но эта вещь необходима для генерации верификатора и доказательств.\n",
    "##### 2) multiplier.sym - файл для дебаггинга TODO, но из важного там видны наши сигналы - main.a, main.b и main.c\n",
    "##### 3) multiplier_js/multiplier.wasm - файл, необходимый для генерации witness - об этом ниже."
   ]
  },
  {
   "cell_type": "markdown",
   "id": "b5e91b1b-d895-472a-9bd6-2deb1f93b62d",
   "metadata": {},
   "source": [
    "Следующий шаг - генерация witness (свидетельств).\n",
    "По сути это множество сигналов, используемых при генерации доказательства. Чтобы что-то доказывать, нам нужно присвоить всем сигналам конкретные значения. Однако на самом деле большинство сигналов вычисляются из других сигналов, и нам нужно задать значения только для входов - в данном случае *main.a* и *main.b*.\n",
    "\n",
    "Создадим файл input.json и в json формате зададим значения для наших input сигналов."
   ]
  },
  {
   "cell_type": "code",
   "execution_count": 11,
   "id": "4467f6f6-5d0e-4a5c-89d3-71c28eefa11f",
   "metadata": {},
   "outputs": [],
   "source": [
    "!cd multiplier/multiplier_js && touch input.json && echo '{\"a\": \"3\", \"b\": \"5\"}' > input.json"
   ]
  },
  {
   "cell_type": "markdown",
   "id": "a2d82d42-178f-4e06-8a27-13d7693274f6",
   "metadata": {},
   "source": [
    "##### Для генерации witness воспользуемся файлом ./multiplier_js/multiplier.wasm"
   ]
  },
  {
   "cell_type": "code",
   "execution_count": 12,
   "id": "25d369dc-4728-4025-8aac-ca297cf1abff",
   "metadata": {},
   "outputs": [],
   "source": [
    "!cd multiplier/multiplier_js && node generate_witness.js multiplier.wasm input.json witness.wtns"
   ]
  },
  {
   "cell_type": "markdown",
   "id": "d4a383b0-ab5a-4d15-a82b-83717aff0038",
   "metadata": {},
   "source": [
    "##### На выходе мы получили файлы witness.wtns и witness_calculator.js в папке multiplier_js. Посмотрим, что лежит в witness.wtns. Для этого надо превратить этот файл в читаемый json"
   ]
  },
  {
   "cell_type": "code",
   "execution_count": null,
   "id": "b7f85d47-5581-4fba-8dcd-a77f22dc7d3e",
   "metadata": {},
   "outputs": [],
   "source": [
    "!snarkjs wtns export json multiplier/multiplier_js/witness.wtns && cat witness.json"
   ]
  },
  {
   "cell_type": "markdown",
   "id": "3b6e150a-ff99-4b9c-8f47-8cbb18c6871e",
   "metadata": {},
   "source": [
    "##### И здеь мы можем увидеть значения всех посчитанных сигналов! Первый элемент всегда 1. Затем 15 - это результат, c. 3 - a, 5 - b. Итого: [1, c, a, b]"
   ]
  },
  {
   "cell_type": "markdown",
   "id": "6ecc1166-c538-472e-8f31-8514716a1640",
   "metadata": {},
   "source": [
    "Теперь у нас есть все для создания нашего доказательства: witness.wtns и multiplier.r1cs\n",
    "\n",
    "Но что вообще мы доказываем? В нашем примере оба входа a и b являются приватными (публичный модификатор доступа надо явно добавлять к переменным, дефолтное значение - *private*). Так как все входы у нас приватные, верификатору будет известен только выход нашего вычисления. Таким образом, мы будем доказывать, что знаем два числа *a* и *b* такие, что их произведение равно *c*."
   ]
  },
  {
   "cell_type": "markdown",
   "id": "18b0509c-098e-46dc-bdf2-71f38764e638",
   "metadata": {},
   "source": [
    "Trusted setup\n",
    "\n",
    "Есть много различных алгоритмов, используемых для генерации доказательств - возьмем для примера Groth16.\n",
    "\n",
    "Первый шаг - trusted setup. Это процедура генерации определенных параметров для создания доказательств. Важно: нечестная генерация таких параметров может позволить доказывать неверные утверждения, так что эта компонента генерации доказательства очень важна.\n",
    "\n",
    "Trusted setup состоит из двух частей:\n",
    "1) Процедура powers of tau - это часть, одинаковая для всех алгоритмов\n",
    "2) Phase 2 - эта часть зависит от алгоритма (у нас Groth16)\n",
    "\n",
    "Начнем с Powers Of Tau. Инициируем церемонию:"
   ]
  },
  {
   "cell_type": "code",
   "execution_count": 15,
   "id": "b274c4db-9fe1-40b9-af1f-0a6d12ea1e5f",
   "metadata": {},
   "outputs": [],
   "source": [
    "import os\n",
    "os.chdir(\"multiplier\")"
   ]
  },
  {
   "cell_type": "code",
   "execution_count": null,
   "id": "ed355d6e-acee-438c-bec2-b518271feb2d",
   "metadata": {},
   "outputs": [],
   "source": [
    "!snarkjs powersoftau new bn128 12 pot12_0000.ptau -v"
   ]
  },
  {
   "cell_type": "markdown",
   "id": "497158d4-3291-484a-8888-1074e2a49649",
   "metadata": {},
   "source": [
    "##### Теперь сделаем вклад в церемонию. В реальном случае в процедуру вносят вклад множество разных участников - это делает параметры безопасными. Никто не сможет генерировать ложные доказательства. В нашем случае мы сделаем один вклад самостоятельно.\n",
    "\n",
    "P.S. Возможно, нужно будет ввести текст в качестве соли - это будет удобнее сделать в отдельном терминале."
   ]
  },
  {
   "cell_type": "code",
   "execution_count": null,
   "id": "ba52d526-85fa-44ae-992a-ea955bf89daa",
   "metadata": {},
   "outputs": [],
   "source": [
    "!snarkjs powersoftau contribute pot12_0000.ptau pot12_0001.ptau --name=\"First contribution\" -v"
   ]
  },
  {
   "cell_type": "markdown",
   "id": "4c2ec100-8fba-48df-bf8d-a26080622c88",
   "metadata": {},
   "source": [
    "##### Мы получим файл pot12_0001.ptau из файла pot12_0000.ptau\n",
    "##### pot12_0001.ptau - наши параметры с первой стадии\n",
    "## Phase 2"
   ]
  },
  {
   "cell_type": "markdown",
   "id": "57d09740-28b3-4fc9-8339-ecf21f8a64a4",
   "metadata": {},
   "source": [
    "##### Начинаем генерацию этой фазы:"
   ]
  },
  {
   "cell_type": "code",
   "execution_count": null,
   "id": "33bb171a-847f-43bd-ad6e-d6e6e0af5cee",
   "metadata": {
    "scrolled": true
   },
   "outputs": [],
   "source": [
    "!snarkjs powersoftau prepare phase2 pot12_0001.ptau pot12_final.ptau -v"
   ]
  },
  {
   "cell_type": "markdown",
   "id": "a55a406d-d921-4315-aa49-a123e4bfe846",
   "metadata": {},
   "source": [
    "##### И еще пара команд:"
   ]
  },
  {
   "cell_type": "code",
   "execution_count": null,
   "id": "09a1cbc5-7f27-4fab-bee4-c52df653378d",
   "metadata": {},
   "outputs": [],
   "source": [
    "!snarkjs groth16 setup multiplier.r1cs pot12_final.ptau multiplier_0000.zkey"
   ]
  },
  {
   "cell_type": "code",
   "execution_count": null,
   "id": "55f8dfa7-1fed-4058-a9e3-944c55f63fd4",
   "metadata": {},
   "outputs": [],
   "source": [
    "!snarkjs zkey contribute multiplier_0000.zkey multiplier_0001.zkey --name=\"1st Contributor Name\" -v"
   ]
  },
  {
   "cell_type": "code",
   "execution_count": null,
   "id": "76277f8f-ba02-4e0d-adbc-000d33f81212",
   "metadata": {},
   "outputs": [],
   "source": [
    "!snarkjs zkey export verificationkey multiplier_0001.zkey verification_key.json"
   ]
  },
  {
   "cell_type": "markdown",
   "id": "5b9e2e14-6810-456b-af47-c4c6d710ac8b",
   "metadata": {},
   "source": [
    "Церемония завершена! Теперь мы можем сгенерировать доказательство.\n",
    "Для этого будем использовать:\n",
    "1) witness.wtns - значения для всех сигналов\n",
    "2) multiplier_0001.zkey - параметры со второй фазы"
   ]
  },
  {
   "cell_type": "code",
   "execution_count": 21,
   "id": "6957dc0b-5002-4740-aeba-4eaade2c2e39",
   "metadata": {},
   "outputs": [],
   "source": [
    "!snarkjs groth16 prove multiplier_0001.zkey multiplier_js/witness.wtns proof.json public.json"
   ]
  },
  {
   "cell_type": "markdown",
   "id": "ae70a81e-3921-45e8-999c-7a6a42a91e8e",
   "metadata": {},
   "source": [
    "##### На выходе мы получили 2 файла: proof.json и public.json\n",
    "##### proof.json - доказательство, вернемся к нему позже.\n",
    "##### public.json - все публичные сигналы нашей схемы - в данном случае это только out, результат произведения."
   ]
  },
  {
   "cell_type": "code",
   "execution_count": null,
   "id": "c3dc6de8-ae0a-4ea4-b4dc-60441c14fd75",
   "metadata": {},
   "outputs": [],
   "source": [
    "!cat public.json"
   ]
  },
  {
   "cell_type": "markdown",
   "id": "56a3de5f-6aef-4f27-9bde-b60c123d484a",
   "metadata": {},
   "source": [
    "##### Теперь мы можем проверить наше доказательство (пока НЕ в виде смарт контракта):"
   ]
  },
  {
   "cell_type": "code",
   "execution_count": null,
   "id": "b2c50418-3ff1-4885-b401-a0bf9deb3592",
   "metadata": {},
   "outputs": [],
   "source": [
    "!snarkjs groth16 verify verification_key.json public.json proof.json"
   ]
  },
  {
   "cell_type": "markdown",
   "id": "c0c46f1c-40ec-4b46-8393-d72b7279e461",
   "metadata": {},
   "source": [
    "##### Как мы видим, никаких секретов не раскрыто!\n",
    "##### Давайте сделаем магию и сгенерируем контракт верифаер:"
   ]
  },
  {
   "cell_type": "code",
   "execution_count": null,
   "id": "a93d9d59-46c2-405b-974c-480a21da7250",
   "metadata": {},
   "outputs": [],
   "source": [
    "!snarkjs zkey export solidityverifier multiplier_0001.zkey MultiplyVerifier.sol"
   ]
  },
  {
   "cell_type": "markdown",
   "id": "ed39aaba-f444-4817-9957-3bec8fdb0b4b",
   "metadata": {},
   "source": [
    "Мы получили файл MultiplyVerifier.sol!\n",
    "В нем есть одна view функция - verifyProof. В качестве аргументов она принимает ранее сгенерированное доказательство и публичные инпуты (в нашем случае это результат умножения - 15), и возвращает True только если доказательство верное. Можем использовать это в наших контрактах как нам нужно!\n",
    "Для генерации параметров для Solidity можно использовать эту команду:"
   ]
  },
  {
   "cell_type": "code",
   "execution_count": null,
   "id": "b037b58a-ad70-41de-9c17-15c3a0421247",
   "metadata": {},
   "outputs": [],
   "source": [
    "!snarkjs generatecall"
   ]
  },
  {
   "cell_type": "markdown",
   "id": "f78fd201-7399-4b65-be1f-3df6db3f3f2b",
   "metadata": {},
   "source": [
    "### <-- vs <==\n",
    "Почему важно в большинстве мест использовать <==, а не <--?\n",
    "<-- не является по факту констрейнтом, а лишь соединяет сигналы между собой. Это позволяет писать более гибкие вещи, ниже пример проверки *in* на равенство нулю. Возвращаем 1, если *in == 0*, 0 иначе.\n",
    "Работая с сигналом *inv*, мы используем оператор **<--**. Как мы видим, выражение справа не в форме A * B + C, а использует тернарный оператор и даже деление."
   ]
  },
  {
   "cell_type": "raw",
   "id": "36b5de8e-bf50-42aa-a3f8-7d860ea6545f",
   "metadata": {},
   "source": [
    "pragma circom 2.0.0;\n",
    "\n",
    "template IsZero() {\n",
    "    signal input in;\n",
    "    signal output out;\n",
    "    signal inv;\n",
    "    inv <-- in != 0 ? 1/in : 0;\n",
    "    out <== -in * inv + 1;\n",
    "    in*out === 0;\n",
    "}\n",
    "\n",
    "component main {public [in]}= IsZero(); // кстати синтаксис объявления паблик входов"
   ]
  },
  {
   "cell_type": "markdown",
   "id": "2bee3fb1-cd3e-4b8f-9aa6-96e7db231bc6",
   "metadata": {},
   "source": [
    "Но для генерации доказательства сам код используется только для вычисления witness значений сигналов.\n",
    "\n",
    "Допустим, мы генерируем доказательство для входа 10.\n",
    "\n",
    "На выходе у нас будет такой witness файл: **[1, out, in, inv] == [1, 0, 10, 1/10 % p]**\n",
    "\n",
    "Ничего не мешает нам подменить значения в этом свидетельстве. Если какой-то сигнал не будет защищен достаточными констрейнтами, это позволит сгенерировать верное доказательство для ложного входа. Если же писать код правильно, то доказательство сгенерировать не получится.\n",
    "\n",
    "Именно поэтому в темплейте выше есть последняя строка **in*out === 0**. Она проверит, что либо наш инпут 0, либо *out* это 0 - то есть наш *in* не 0 и мы верно посчитали его обратный элемент.\n",
    "\n",
    "Вот пример уязвимой реализации:"
   ]
  },
  {
   "cell_type": "raw",
   "id": "f6c2287e-ab73-4d62-8135-f6548daf07d0",
   "metadata": {},
   "source": [
    "pragma circom 2.0.0;\n",
    "\n",
    "template IsZero() {\n",
    "    signal input in;\n",
    "    signal output out;\n",
    "    out <-- in == 0 ? 1 : 0;\n",
    "}\n",
    "\n",
    "component main {public [in]}= IsZero();"
   ]
  },
  {
   "cell_type": "markdown",
   "id": "e6ae1552-0146-44e8-85e7-f4a8addfaa55",
   "metadata": {},
   "source": [
    "##### Код выше не обладает никаким констрейтами, по сути любые значения сигналов в witness подойдут для генерации доказательств. Хотя сам код - по сути делает то, что нужно, но не влияет на доказательство."
   ]
  },
  {
   "cell_type": "markdown",
   "id": "b2281251-2d0a-4c58-98d5-f3a2cee3ff11",
   "metadata": {},
   "source": [
    "Более сложная схема\n",
    "##### Ниже пример схемы для генерации доказательства того, что пруверу известны корни некоторого квадратного уравнения."
   ]
  },
  {
   "cell_type": "raw",
   "id": "070c40c2-8d52-4439-9702-c4f098b56d4e",
   "metadata": {},
   "source": [
    "pragma circom 2.1.8;\n",
    "\n",
    "template Multiplier2 () {\n",
    "   signal input a;  \n",
    "   signal input b;  \n",
    "   signal output out;\n",
    "   out <== a * b;  \n",
    "}\n",
    "\n",
    "template SolveQuadraticExpression() {\n",
    "    // a * x ^ 2 + b * x + c == 0\n",
    "    signal input x;\n",
    "    signal input coeffs[3]; // [a, b, c]\n",
    "\n",
    "    component x2 = Multiplier2();\n",
    "    x2.a <== x;\n",
    "    x2.b <== x;\n",
    "    component ax2 = Multiplier2();\n",
    "    ax2.a <== coeffs[0];\n",
    "    ax2.b <== x2.out;\n",
    "    component bx = Multiplier2();\n",
    "    bx.a <== coeffs[1];\n",
    "    bx.b <== x;\n",
    "\n",
    "    var result = ax2.out + bx.out + coeffs[2];\n",
    "    result === 0;\n",
    "}\n",
    "\n",
    "component main {public [coeffs]} = SolveQuadraticExpression();"
   ]
  },
  {
   "cell_type": "code",
   "execution_count": null,
   "id": "5e82adb3-641a-4ca5-b20b-2d26438b4588",
   "metadata": {},
   "outputs": [],
   "source": [
    "os.chdir(\"../quadratic\")\n",
    "!circom quadratic.circom --r1cs --wasm --sym"
   ]
  },
  {
   "cell_type": "markdown",
   "id": "9e0fc6a3-2bf7-4ba6-a738-e8cc5c537582",
   "metadata": {},
   "source": [
    "##### Пример выше принимает на вход массив сигналов *coeffs* и сигнал *x*.\n",
    "##### *Coeffs* - публичные входы, их нужно будет подать верификатору на вход при верификации. *x* же является скрытым входом и не будет известен верификатору.\n",
    "##### Главной точкой входа является *main*. Там мы явно указываем, что *coeffs* - публичные входы.\n",
    "##### *SolveQuadraticExpression* внутри себя инициализирует несколько компонент для умножения: *x2*, *ax2* и *bx*. Входные сигналы соединяются с входами компонент через оператор *<==*, то есть запись *x2.a <== x* передает сигнал *x* на вход *x2* в качестве входа *a*. При использовании компоненты необходимо инициализировать все ее **input** входы.\n",
    "##### Выходы компонент можно переиспользовать: для вычисления *a * x ^ 2* мы передаем выход компоненты *x2* на вход (так как хотим перемножить коэффициент *a* и *x^2*).\n",
    "##### Для вычисления результата выражения мы используем переменную *var result*. **var** не является сигналом и служит для простой записи более сложных выражений. Поэтому после вычисления значения выражения мы явно задаем констрейнт: *result === 0*, означающий, что *x* является корнем выражения.\n",
    "##### На самом деле компоненты *Multiplier2()* можно было опустить и вычислить все через var. Circom позволяет выносить сложные вычисления вне констрейнтов и верификации, но необходимо правильно сравнить результаты этих вычислений.\n",
    "##### Так бы могла выглядеть упрощенная версия:"
   ]
  },
  {
   "cell_type": "raw",
   "id": "04bfdc93-5ee0-4602-9c71-fa0b167f5c22",
   "metadata": {},
   "source": [
    "pragma circom 2.1.8;\n",
    "\n",
    "template SolveQuadraticExpression() {\n",
    "    // a * x ^ 2 + b * x + c == 0\n",
    "    signal input x;\n",
    "    signal input coeffs[3]; // [a, b, c]\n",
    "\n",
    "    var result = coeffs[0] * x * x + coeffs[1] * x + coeffs[2];\n",
    "    result === 0;\n",
    "}\n",
    "\n",
    "component main {public [coeffs]} = SolveQuadraticExpression();"
   ]
  }
 ],
 "metadata": {
  "kernelspec": {
   "display_name": "zk_env",
   "language": "python",
   "name": "zk_env"
  },
  "language_info": {
   "codemirror_mode": {
    "name": "ipython",
    "version": 3
   },
   "file_extension": ".py",
   "mimetype": "text/x-python",
   "name": "python",
   "nbconvert_exporter": "python",
   "pygments_lexer": "ipython3",
   "version": "3.12.3"
  }
 },
 "nbformat": 4,
 "nbformat_minor": 5
}
